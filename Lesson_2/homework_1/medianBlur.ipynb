{
 "cells": [
  {
   "cell_type": "code",
   "execution_count": 87,
   "metadata": {},
   "outputs": [
    {
     "name": "stdout",
     "output_type": "stream",
     "text": [
      "Populating the interactive namespace from numpy and matplotlib\n"
     ]
    }
   ],
   "source": [
    "import cv2 as cv\n",
    "import numpy as np\n",
    "%pylab inline"
   ]
  },
  {
   "cell_type": "code",
   "execution_count": 88,
   "metadata": {},
   "outputs": [],
   "source": [
    "def medianBlur(img, kernel, padding_way):\n",
    "    #加载图并转为灰度图像\n",
    "    img_gray = cv.cvtColor(img, cv.COLOR_RGB2GRAY)\n",
    "    #copy图像进行操作\n",
    "    conv_img = img_gray.copy()\n",
    "    \n",
    "    #padding,补0\n",
    "    padding_row = np.array([padding_way] * img_gray.shape[0]+[0, 0])  #426个,先在上下补了两行，原始尺寸被改变\n",
    "    padding_col = np.array([padding_way] * img_gray.shape[1])  #640个\n",
    "    pad_img_gray = np.insert(conv_img, ((0, img_gray.shape[0])), padding_col, 0)  #上下补\n",
    "    pad_img_gray = np.insert(pad_img_gray, 0, padding_row, 1)                    #左补\n",
    "    pad_img_gray = np.insert(pad_img_gray, img_gray.shape[1]+1, padding_row, 1)   #右补\n",
    "    \n",
    "    #卷积\n",
    "    for i in range(img_gray.shape[0]):\n",
    "        for j in range(img_gray.shape[1]):\n",
    "            conv = sorted((pad_img_gray[i:i+3, j:j+3] * kernel).flatten())\n",
    "            conv_img[i][j] = conv[4]\n",
    "            \n",
    "    return img, img_gray, conv_img"
   ]
  },
  {
   "cell_type": "code",
   "execution_count": 89,
   "metadata": {},
   "outputs": [],
   "source": [
    "if __name__ == \"__main__\":\n",
    "    img = cv.imread('1.jpg')\n",
    "    kernel = np.ones((3, 3))\n",
    "    padding_way = 0\n",
    "    img, img_gray, conv_img = medianBlur(img, kernel, padding_way)\n",
    "    cv.imshow('Origine', img)\n",
    "    cv.imshow('Gray', img_gray)\n",
    "    cv.imshow('Conv', conv_img)\n",
    "    key = cv.waitKey()\n",
    "    if key == 27:\n",
    "        cv.destroyAllWindows()"
   ]
  },
  {
   "cell_type": "code",
   "execution_count": null,
   "metadata": {},
   "outputs": [],
   "source": []
  }
 ],
 "metadata": {
  "kernelspec": {
   "display_name": "Python 3",
   "language": "python",
   "name": "python3"
  },
  "language_info": {
   "codemirror_mode": {
    "name": "ipython",
    "version": 3
   },
   "file_extension": ".py",
   "mimetype": "text/x-python",
   "name": "python",
   "nbconvert_exporter": "python",
   "pygments_lexer": "ipython3",
   "version": "3.6.5"
  }
 },
 "nbformat": 4,
 "nbformat_minor": 2
}
