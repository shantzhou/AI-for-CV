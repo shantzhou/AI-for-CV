{
 "cells": [
  {
   "cell_type": "code",
   "execution_count": 22,
   "metadata": {},
   "outputs": [],
   "source": [
    "import cv2 as cv\n",
    "import numpy as np"
   ]
  },
  {
   "cell_type": "code",
   "execution_count": 23,
   "metadata": {},
   "outputs": [],
   "source": [
    "img = cv.imread('8.jpg')\n",
    "cv.imshow('zzb', img)\n",
    "key = cv.waitKey()\n",
    "if key == 27:\n",
    "    cv.destroyAllWindows()"
   ]
  },
  {
   "cell_type": "code",
   "execution_count": 3,
   "metadata": {},
   "outputs": [],
   "source": [
    "#Gaussian Kernel Effect\n",
    "g_img = cv.GaussianBlur(img, (7, 7), 5)  #img:图像 ， (7, 7)：高斯核大小 ， 5：方差\n",
    "cv.imshow('gaussian_blurr_zzb', g_img)\n",
    "key = cv.waitKey()\n",
    "if key == 27:\n",
    "    cv.destroyAllWindows()"
   ]
  },
  {
   "cell_type": "code",
   "execution_count": 4,
   "metadata": {},
   "outputs": [],
   "source": [
    "#变大高斯核大小，图像更加模糊，平滑效果更加明显\n",
    "g_img = cv.GaussianBlur(img, (17, 17), 5)\n",
    "cv.imshow('gaussian_blur_zzb', g_img)\n",
    "key = cv.waitKey()\n",
    "if key == 27:\n",
    "    cv.destroyAllWindows()"
   ]
  },
  {
   "cell_type": "code",
   "execution_count": 6,
   "metadata": {},
   "outputs": [],
   "source": [
    "#图像更清晰，因为方差更小，高斯图像更加尖锐，中心点起的作用更大\n",
    "g_img1 = cv.GaussianBlur(img, (17, 17), 5)\n",
    "g_img2 = cv.GaussianBlur(img, (17, 17), 3)\n",
    "cv.imshow('gaussian_blur_zzb1', g_img1)\n",
    "cv.imshow('gaussian_blur_zzb2', g_img2)\n",
    "key = cv.waitKey()\n",
    "if key == 27:\n",
    "    cv.destroyAllWindows()"
   ]
  },
  {
   "cell_type": "code",
   "execution_count": 8,
   "metadata": {},
   "outputs": [
    {
     "name": "stdout",
     "output_type": "stream",
     "text": [
      "[[0.12895603]\n",
      " [0.14251846]\n",
      " [0.15133131]\n",
      " [0.1543884 ]\n",
      " [0.15133131]\n",
      " [0.14251846]\n",
      " [0.12895603]]\n"
     ]
    }
   ],
   "source": [
    "#查看高斯核\n",
    "kernel = cv.getGaussianKernel(7, 5)  #大小为7， 方差为5\n",
    "print(kernel)\n",
    "#高斯核是一维的，是为了将两个方向的卷积运算分开进行。有助于减少运算量，提升运算速度。"
   ]
  },
  {
   "cell_type": "code",
   "execution_count": 9,
   "metadata": {},
   "outputs": [],
   "source": [
    "#查看高斯核分布高斯效果\n",
    "g1_img = cv.GaussianBlur(img, (7, 7), 5)\n",
    "g2_img = cv.sepFilter2D(img, -1, kernel, kernel)  #ori, depth, kernel_x, kernel_y\n",
    "cv.imshow('gaussian_blur_zzb', g1_img)\n",
    "cv.imshow('filter2d_blur_zzb', g2_img)\n",
    "key = cv.waitKey()\n",
    "if key == 27:\n",
    "    cv.destroyAllWindows()"
   ]
  },
  {
   "cell_type": "markdown",
   "metadata": {},
   "source": [
    "# 其余应用"
   ]
  },
  {
   "cell_type": "code",
   "execution_count": 38,
   "metadata": {},
   "outputs": [],
   "source": [
    "# 2nd derivative : laplacian(双边滤波,双边缘效果)\n",
    "kernel_lap = np.array([[0,1,0], [1,-4,1], [0,1,0]], np.float32)\n",
    "lap_img = cv.filter2D(img, -1, kernel = kernel_lap)\n",
    "cv.imshow('lap_zzb', lap_img)\n",
    "key = cv.waitKey()\n",
    "if key == 27:\n",
    "    cv.destroyAllWindows()"
   ]
  },
  {
   "cell_type": "code",
   "execution_count": 37,
   "metadata": {},
   "outputs": [],
   "source": [
    "#应用：图像锐化 = edge + ori\n",
    "#app:sharpen\n",
    "#图像+edge = 更锐利的图像，突出了边缘\n",
    "kernel_sharpe = np.array([[0,1,0], [1,-3,1], [0,1,0]], np.float32)\n",
    "lap_img = cv.filter2D(img, -1, kernel = kernel_sharpe)\n",
    "cv.imshow('sharp_zzb', lap_img)\n",
    "key = cv.waitKey()\n",
    "if key == 27:\n",
    "    cv.destroyAllWindows()\n"
   ]
  },
  {
   "cell_type": "code",
   "execution_count": 33,
   "metadata": {},
   "outputs": [],
   "source": [
    "#上图做法不对，由于周围有4个1， 中间是-3， 所以虽然有边缘效果，但是周围的1会使得原kernel有滤波效果，使图像模糊\n",
    "#解决方法：取kernel_lap相反数，再加上原图，这样来突出中间像素，效果类似于小方差的高斯\n",
    "#所以即可突出边缘，又可以保持图像清晰\n",
    "kernel_sharpe = np.array([[0,-1,0], [-1,5,-1], [0,-1,0]], np.float32)\n",
    "lap_img = cv.filter2D(img, -1, kernel = kernel_sharpe)\n",
    "cv.imshow('sharpe_zzb', lap_img)\n",
    "key = cv.waitKey()\n",
    "if key == 27:\n",
    "    cv.destroyAllWindows()"
   ]
  },
  {
   "cell_type": "code",
   "execution_count": 40,
   "metadata": {},
   "outputs": [],
   "source": [
    "#更凶猛的边缘效果\n",
    "#不仅考虑x-y方向上的维度， 同时考虑对角线方向上的维度\n",
    "kernel_sharpe = np.array([[-1,-1,-1],[-1,8,-1],[-1,-1,-1]],np.float32)\n",
    "lap_img = cv.filter2D(img, -1, kernel = kernel_sharpe)\n",
    "cv.imshow('sharpe_zzb', lap_img)\n",
    "key = cv.waitKey()\n",
    "if key == 27:\n",
    "    cv.destroyAllWindows()"
   ]
  },
  {
   "cell_type": "markdown",
   "metadata": {},
   "source": [
    "# 边缘"
   ]
  },
  {
   "cell_type": "code",
   "execution_count": 42,
   "metadata": {},
   "outputs": [],
   "source": [
    "#x轴\n",
    "edgex = np.array([[-1,-2,-1], [0,0,0], [1,2,1]], np.float32)\n",
    "sharpx_img = cv.filter2D(img, -1, kernel = edgex)\n",
    "cv.imshow('edge_x', sharpx_img)\n",
    "#y轴\n",
    "edgey = np.array([[-1,0,1], [-2,0,2],[-1,0,-1]], np.float32)\n",
    "sharpy_img = cv.filter2D(img, -1, kernel = edgey)\n",
    "cv.imshow('edge_y', sharpy_img)\n",
    "\n",
    "key = cv.waitKey()\n",
    "if key == 27:\n",
    "    cv.destroyAllWindows()"
   ]
  },
  {
   "cell_type": "markdown",
   "metadata": {},
   "source": [
    "# 角点"
   ]
  },
  {
   "cell_type": "code",
   "execution_count": 8,
   "metadata": {},
   "outputs": [
    {
     "name": "stdout",
     "output_type": "stream",
     "text": [
      "[[255 255 255 ... 255 255 255]\n",
      " [255 255 255 ... 255 255 255]\n",
      " [255 255 255 ... 255 255 255]\n",
      " ...\n",
      " [255 255 255 ... 255 255 255]\n",
      " [255 255 255 ... 255 255 255]\n",
      " [255 255 255 ... 255 255 255]]\n"
     ]
    }
   ],
   "source": [
    "img = cv.imread('23.png')\n",
    "cv.imshow('img', img)\n",
    "    \n",
    "img_gray = cv.cvtColor(img, cv.COLOR_BGR2GRAY)\n",
    "cv.imshow('gray_img', img_gray)\n",
    "print(img_gray)\n",
    "\n",
    "\n",
    "key = cv.waitKey()\n",
    "if key == 27:\n",
    "    cv.destroyAllWindows()"
   ]
  },
  {
   "cell_type": "code",
   "execution_count": 9,
   "metadata": {},
   "outputs": [
    {
     "name": "stdout",
     "output_type": "stream",
     "text": [
      "[[0. 0. 0. ... 0. 0. 0.]\n",
      " [0. 0. 0. ... 0. 0. 0.]\n",
      " [0. 0. 0. ... 0. 0. 0.]\n",
      " ...\n",
      " [0. 0. 0. ... 0. 0. 0.]\n",
      " [0. 0. 0. ... 0. 0. 0.]\n",
      " [0. 0. 0. ... 0. 0. 0.]]\n"
     ]
    }
   ],
   "source": [
    "#cv.cornerHarris(img_gray, blocksize, ksize, k)\n",
    "#img - 输入图像，应该是灰度和float32类型。\n",
    "# blockSize - 考虑角点检测的邻域大小\n",
    "# ksize - 使用的Sobel算子的孔径参数。\n",
    "# k - 方程中的Harris检测器自由参数。\n",
    "\n",
    "img_harris = cv.cornerHarris(img_gray, 2, 3, 0.05)\n",
    "# cv.imshow('img_harris', img_harris)\n",
    "# key = cv.waitKey()\n",
    "# if key == 27:\n",
    "#     cv.destroyAllWindows()\n",
    "#展示不出来，原因是：1.float类型  2.img_harris本质上是每个pixel对于Harris函数的响应\n",
    "print(img_harris)"
   ]
  },
  {
   "cell_type": "code",
   "execution_count": 11,
   "metadata": {},
   "outputs": [],
   "source": [
    "#为了将角点显示清楚，可以对角点进行膨胀操作\n",
    "img_harris = cv.dilate(img_harris, None)\n",
    "\n",
    "thres = 0.05 * np.max(img_harris)  #阈值设置,大于阈值的都认为是角点\n",
    "img[img_harris > thres] = [0, 0, 0]  #角点设置为黑色\n",
    "cv.imshow('img_harris', img)\n",
    "key = cv.waitKey()\n",
    "if key == 27:\n",
    "    cv.destroyAllWindows()"
   ]
  },
  {
   "cell_type": "markdown",
   "metadata": {},
   "source": [
    "# SIFT：Scale-Invariant Feature Transform"
   ]
  },
  {
   "cell_type": "code",
   "execution_count": 12,
   "metadata": {},
   "outputs": [],
   "source": [
    "# 1.DoG\n",
    "# 2.Scale-space Extrema Detection\n",
    "# 3.Accurate keypois localization\n",
    "# 4.Eliminating Edge Responses\n",
    "# 5.Orientation Assignment\n",
    "# 6.Keypoint Descripter"
   ]
  },
  {
   "cell_type": "code",
   "execution_count": 35,
   "metadata": {},
   "outputs": [],
   "source": [
    "#sift.detect（）函数查找图像中的关键点。\n",
    "#如果只想搜索图像的一部分，则可以传递蒙版。\n",
    "#每个关键点都是一个特殊的结构，它有许多属性，如（x，y）坐标，有意义邻域的大小，指定方向的角度，指定关键点强度的响应等。\n",
    "\n",
    "#cv2.drawKeyPoints（）函数，该函数在关键点的位置上绘制小圆圈。\n",
    "#如果你向它传递一个标志cv2.DRAW_MATCHES_FLAGS_DRAW_RICH_KEYPOINTS，它将绘制一个大小为keypoint的圆圈，它甚至会显示它的方向。见下面的例子。"
   ]
  },
  {
   "cell_type": "code",
   "execution_count": 31,
   "metadata": {},
   "outputs": [
    {
     "name": "stdout",
     "output_type": "stream",
     "text": [
      "(276, 128)\n"
     ]
    }
   ],
   "source": [
    "img = cv.imread('8.jpg')\n",
    "# create sift class创建SIFT对象\n",
    "sift = cv.xfeatures2d.SIFT_create()\n",
    "# detect SIFT 检测关键点\n",
    "kp = sift.detect(img, None)   # 查找图像中的关键点，None for mask, 如果想要搜索图像的一部分可以传递mask\n",
    "# compute SIFT descriptor 描述关键点\n",
    "kp,des = sift.compute(img,kp)  #计算关键点描述符\n",
    "print(des.shape)\n",
    "img_sift = cv.drawKeypoints(img, kp, outImage = np.array([]), flags = cv.DRAW_MATCHES_FLAGS_DRAW_RICH_KEYPOINTS)\n",
    "cv.imshow('zzb',img)\n",
    "cv.imshow('zzb_sift', img_sift)\n",
    "key = cv.waitKey()\n",
    "if key == 27:\n",
    "    cv.destroyAllWindows()"
   ]
  },
  {
   "cell_type": "code",
   "execution_count": 34,
   "metadata": {},
   "outputs": [],
   "source": [
    "img = cv.imread('8.jpg')\n",
    "sift = cv.xfeatures2d.SIFT_create()\n",
    "kp, des = sift.detectAndCompute(img, None)  #可以通过cv.detectAndCompute函数将关键点检测和描述一起完成\n",
    "img_sift = cv.drawKeypoints(img, kp, outImage = np.array([]), flags = cv.DrawMatchesFlags_DRAW_RICH_KEYPOINTS) \n",
    "cv.imshow('img', img)\n",
    "cv.imshow('img_sift', img_sift)\n",
    "key = cv.waitKey()\n",
    "if key == 27:\n",
    "    cv.destroyAllWindows()"
   ]
  },
  {
   "cell_type": "code",
   "execution_count": null,
   "metadata": {},
   "outputs": [],
   "source": []
  }
 ],
 "metadata": {
  "kernelspec": {
   "display_name": "Python 3",
   "language": "python",
   "name": "python3"
  },
  "language_info": {
   "codemirror_mode": {
    "name": "ipython",
    "version": 3
   },
   "file_extension": ".py",
   "mimetype": "text/x-python",
   "name": "python",
   "nbconvert_exporter": "python",
   "pygments_lexer": "ipython3",
   "version": "3.6.5"
  }
 },
 "nbformat": 4,
 "nbformat_minor": 2
}
